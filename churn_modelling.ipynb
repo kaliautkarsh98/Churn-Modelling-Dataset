{
  "nbformat": 4,
  "nbformat_minor": 0,
  "metadata": {
    "colab": {
      "name": "churn_modelling.ipynb",
      "provenance": [],
      "include_colab_link": true
    },
    "kernelspec": {
      "name": "python3",
      "display_name": "Python 3"
    }
  },
  "cells": [
    {
      "cell_type": "markdown",
      "metadata": {
        "id": "view-in-github",
        "colab_type": "text"
      },
      "source": [
        "<a href=\"https://colab.research.google.com/github/kaliautkarsh98/Churn-Modelling-Dataset/blob/master/churn_modelling.ipynb\" target=\"_parent\"><img src=\"https://colab.research.google.com/assets/colab-badge.svg\" alt=\"Open In Colab\"/></a>"
      ]
    },
    {
      "cell_type": "code",
      "metadata": {
        "id": "EXIfGhZwKmkw",
        "colab_type": "code",
        "colab": {}
      },
      "source": [
        "import numpy as np\n",
        "import matplotlib.pyplot as plt\n",
        "import pandas as pd"
      ],
      "execution_count": null,
      "outputs": []
    },
    {
      "cell_type": "code",
      "metadata": {
        "id": "aBDYc779hExm",
        "colab_type": "code",
        "colab": {
          "resources": {
            "http://localhost:8080/nbextensions/google.colab/files.js": {
              "data": "Ly8gQ29weXJpZ2h0IDIwMTcgR29vZ2xlIExMQwovLwovLyBMaWNlbnNlZCB1bmRlciB0aGUgQXBhY2hlIExpY2Vuc2UsIFZlcnNpb24gMi4wICh0aGUgIkxpY2Vuc2UiKTsKLy8geW91IG1heSBub3QgdXNlIHRoaXMgZmlsZSBleGNlcHQgaW4gY29tcGxpYW5jZSB3aXRoIHRoZSBMaWNlbnNlLgovLyBZb3UgbWF5IG9idGFpbiBhIGNvcHkgb2YgdGhlIExpY2Vuc2UgYXQKLy8KLy8gICAgICBodHRwOi8vd3d3LmFwYWNoZS5vcmcvbGljZW5zZXMvTElDRU5TRS0yLjAKLy8KLy8gVW5sZXNzIHJlcXVpcmVkIGJ5IGFwcGxpY2FibGUgbGF3IG9yIGFncmVlZCB0byBpbiB3cml0aW5nLCBzb2Z0d2FyZQovLyBkaXN0cmlidXRlZCB1bmRlciB0aGUgTGljZW5zZSBpcyBkaXN0cmlidXRlZCBvbiBhbiAiQVMgSVMiIEJBU0lTLAovLyBXSVRIT1VUIFdBUlJBTlRJRVMgT1IgQ09ORElUSU9OUyBPRiBBTlkgS0lORCwgZWl0aGVyIGV4cHJlc3Mgb3IgaW1wbGllZC4KLy8gU2VlIHRoZSBMaWNlbnNlIGZvciB0aGUgc3BlY2lmaWMgbGFuZ3VhZ2UgZ292ZXJuaW5nIHBlcm1pc3Npb25zIGFuZAovLyBsaW1pdGF0aW9ucyB1bmRlciB0aGUgTGljZW5zZS4KCi8qKgogKiBAZmlsZW92ZXJ2aWV3IEhlbHBlcnMgZm9yIGdvb2dsZS5jb2xhYiBQeXRob24gbW9kdWxlLgogKi8KKGZ1bmN0aW9uKHNjb3BlKSB7CmZ1bmN0aW9uIHNwYW4odGV4dCwgc3R5bGVBdHRyaWJ1dGVzID0ge30pIHsKICBjb25zdCBlbGVtZW50ID0gZG9jdW1lbnQuY3JlYXRlRWxlbWVudCgnc3BhbicpOwogIGVsZW1lbnQudGV4dENvbnRlbnQgPSB0ZXh0OwogIGZvciAoY29uc3Qga2V5IG9mIE9iamVjdC5rZXlzKHN0eWxlQXR0cmlidXRlcykpIHsKICAgIGVsZW1lbnQuc3R5bGVba2V5XSA9IHN0eWxlQXR0cmlidXRlc1trZXldOwogIH0KICByZXR1cm4gZWxlbWVudDsKfQoKLy8gTWF4IG51bWJlciBvZiBieXRlcyB3aGljaCB3aWxsIGJlIHVwbG9hZGVkIGF0IGEgdGltZS4KY29uc3QgTUFYX1BBWUxPQURfU0laRSA9IDEwMCAqIDEwMjQ7CgpmdW5jdGlvbiBfdXBsb2FkRmlsZXMoaW5wdXRJZCwgb3V0cHV0SWQpIHsKICBjb25zdCBzdGVwcyA9IHVwbG9hZEZpbGVzU3RlcChpbnB1dElkLCBvdXRwdXRJZCk7CiAgY29uc3Qgb3V0cHV0RWxlbWVudCA9IGRvY3VtZW50LmdldEVsZW1lbnRCeUlkKG91dHB1dElkKTsKICAvLyBDYWNoZSBzdGVwcyBvbiB0aGUgb3V0cHV0RWxlbWVudCB0byBtYWtlIGl0IGF2YWlsYWJsZSBmb3IgdGhlIG5leHQgY2FsbAogIC8vIHRvIHVwbG9hZEZpbGVzQ29udGludWUgZnJvbSBQeXRob24uCiAgb3V0cHV0RWxlbWVudC5zdGVwcyA9IHN0ZXBzOwoKICByZXR1cm4gX3VwbG9hZEZpbGVzQ29udGludWUob3V0cHV0SWQpOwp9CgovLyBUaGlzIGlzIHJvdWdobHkgYW4gYXN5bmMgZ2VuZXJhdG9yIChub3Qgc3VwcG9ydGVkIGluIHRoZSBicm93c2VyIHlldCksCi8vIHdoZXJlIHRoZXJlIGFyZSBtdWx0aXBsZSBhc3luY2hyb25vdXMgc3RlcHMgYW5kIHRoZSBQeXRob24gc2lkZSBpcyBnb2luZwovLyB0byBwb2xsIGZvciBjb21wbGV0aW9uIG9mIGVhY2ggc3RlcC4KLy8gVGhpcyB1c2VzIGEgUHJvbWlzZSB0byBibG9jayB0aGUgcHl0aG9uIHNpZGUgb24gY29tcGxldGlvbiBvZiBlYWNoIHN0ZXAsCi8vIHRoZW4gcGFzc2VzIHRoZSByZXN1bHQgb2YgdGhlIHByZXZpb3VzIHN0ZXAgYXMgdGhlIGlucHV0IHRvIHRoZSBuZXh0IHN0ZXAuCmZ1bmN0aW9uIF91cGxvYWRGaWxlc0NvbnRpbnVlKG91dHB1dElkKSB7CiAgY29uc3Qgb3V0cHV0RWxlbWVudCA9IGRvY3VtZW50LmdldEVsZW1lbnRCeUlkKG91dHB1dElkKTsKICBjb25zdCBzdGVwcyA9IG91dHB1dEVsZW1lbnQuc3RlcHM7CgogIGNvbnN0IG5leHQgPSBzdGVwcy5uZXh0KG91dHB1dEVsZW1lbnQubGFzdFByb21pc2VWYWx1ZSk7CiAgcmV0dXJuIFByb21pc2UucmVzb2x2ZShuZXh0LnZhbHVlLnByb21pc2UpLnRoZW4oKHZhbHVlKSA9PiB7CiAgICAvLyBDYWNoZSB0aGUgbGFzdCBwcm9taXNlIHZhbHVlIHRvIG1ha2UgaXQgYXZhaWxhYmxlIHRvIHRoZSBuZXh0CiAgICAvLyBzdGVwIG9mIHRoZSBnZW5lcmF0b3IuCiAgICBvdXRwdXRFbGVtZW50Lmxhc3RQcm9taXNlVmFsdWUgPSB2YWx1ZTsKICAgIHJldHVybiBuZXh0LnZhbHVlLnJlc3BvbnNlOwogIH0pOwp9CgovKioKICogR2VuZXJhdG9yIGZ1bmN0aW9uIHdoaWNoIGlzIGNhbGxlZCBiZXR3ZWVuIGVhY2ggYXN5bmMgc3RlcCBvZiB0aGUgdXBsb2FkCiAqIHByb2Nlc3MuCiAqIEBwYXJhbSB7c3RyaW5nfSBpbnB1dElkIEVsZW1lbnQgSUQgb2YgdGhlIGlucHV0IGZpbGUgcGlja2VyIGVsZW1lbnQuCiAqIEBwYXJhbSB7c3RyaW5nfSBvdXRwdXRJZCBFbGVtZW50IElEIG9mIHRoZSBvdXRwdXQgZGlzcGxheS4KICogQHJldHVybiB7IUl0ZXJhYmxlPCFPYmplY3Q+fSBJdGVyYWJsZSBvZiBuZXh0IHN0ZXBzLgogKi8KZnVuY3Rpb24qIHVwbG9hZEZpbGVzU3RlcChpbnB1dElkLCBvdXRwdXRJZCkgewogIGNvbnN0IGlucHV0RWxlbWVudCA9IGRvY3VtZW50LmdldEVsZW1lbnRCeUlkKGlucHV0SWQpOwogIGlucHV0RWxlbWVudC5kaXNhYmxlZCA9IGZhbHNlOwoKICBjb25zdCBvdXRwdXRFbGVtZW50ID0gZG9jdW1lbnQuZ2V0RWxlbWVudEJ5SWQob3V0cHV0SWQpOwogIG91dHB1dEVsZW1lbnQuaW5uZXJIVE1MID0gJyc7CgogIGNvbnN0IHBpY2tlZFByb21pc2UgPSBuZXcgUHJvbWlzZSgocmVzb2x2ZSkgPT4gewogICAgaW5wdXRFbGVtZW50LmFkZEV2ZW50TGlzdGVuZXIoJ2NoYW5nZScsIChlKSA9PiB7CiAgICAgIHJlc29sdmUoZS50YXJnZXQuZmlsZXMpOwogICAgfSk7CiAgfSk7CgogIGNvbnN0IGNhbmNlbCA9IGRvY3VtZW50LmNyZWF0ZUVsZW1lbnQoJ2J1dHRvbicpOwogIGlucHV0RWxlbWVudC5wYXJlbnRFbGVtZW50LmFwcGVuZENoaWxkKGNhbmNlbCk7CiAgY2FuY2VsLnRleHRDb250ZW50ID0gJ0NhbmNlbCB1cGxvYWQnOwogIGNvbnN0IGNhbmNlbFByb21pc2UgPSBuZXcgUHJvbWlzZSgocmVzb2x2ZSkgPT4gewogICAgY2FuY2VsLm9uY2xpY2sgPSAoKSA9PiB7CiAgICAgIHJlc29sdmUobnVsbCk7CiAgICB9OwogIH0pOwoKICAvLyBXYWl0IGZvciB0aGUgdXNlciB0byBwaWNrIHRoZSBmaWxlcy4KICBjb25zdCBmaWxlcyA9IHlpZWxkIHsKICAgIHByb21pc2U6IFByb21pc2UucmFjZShbcGlja2VkUHJvbWlzZSwgY2FuY2VsUHJvbWlzZV0pLAogICAgcmVzcG9uc2U6IHsKICAgICAgYWN0aW9uOiAnc3RhcnRpbmcnLAogICAgfQogIH07CgogIGNhbmNlbC5yZW1vdmUoKTsKCiAgLy8gRGlzYWJsZSB0aGUgaW5wdXQgZWxlbWVudCBzaW5jZSBmdXJ0aGVyIHBpY2tzIGFyZSBub3QgYWxsb3dlZC4KICBpbnB1dEVsZW1lbnQuZGlzYWJsZWQgPSB0cnVlOwoKICBpZiAoIWZpbGVzKSB7CiAgICByZXR1cm4gewogICAgICByZXNwb25zZTogewogICAgICAgIGFjdGlvbjogJ2NvbXBsZXRlJywKICAgICAgfQogICAgfTsKICB9CgogIGZvciAoY29uc3QgZmlsZSBvZiBmaWxlcykgewogICAgY29uc3QgbGkgPSBkb2N1bWVudC5jcmVhdGVFbGVtZW50KCdsaScpOwogICAgbGkuYXBwZW5kKHNwYW4oZmlsZS5uYW1lLCB7Zm9udFdlaWdodDogJ2JvbGQnfSkpOwogICAgbGkuYXBwZW5kKHNwYW4oCiAgICAgICAgYCgke2ZpbGUudHlwZSB8fCAnbi9hJ30pIC0gJHtmaWxlLnNpemV9IGJ5dGVzLCBgICsKICAgICAgICBgbGFzdCBtb2RpZmllZDogJHsKICAgICAgICAgICAgZmlsZS5sYXN0TW9kaWZpZWREYXRlID8gZmlsZS5sYXN0TW9kaWZpZWREYXRlLnRvTG9jYWxlRGF0ZVN0cmluZygpIDoKICAgICAgICAgICAgICAgICAgICAgICAgICAgICAgICAgICAgJ24vYSd9IC0gYCkpOwogICAgY29uc3QgcGVyY2VudCA9IHNwYW4oJzAlIGRvbmUnKTsKICAgIGxpLmFwcGVuZENoaWxkKHBlcmNlbnQpOwoKICAgIG91dHB1dEVsZW1lbnQuYXBwZW5kQ2hpbGQobGkpOwoKICAgIGNvbnN0IGZpbGVEYXRhUHJvbWlzZSA9IG5ldyBQcm9taXNlKChyZXNvbHZlKSA9PiB7CiAgICAgIGNvbnN0IHJlYWRlciA9IG5ldyBGaWxlUmVhZGVyKCk7CiAgICAgIHJlYWRlci5vbmxvYWQgPSAoZSkgPT4gewogICAgICAgIHJlc29sdmUoZS50YXJnZXQucmVzdWx0KTsKICAgICAgfTsKICAgICAgcmVhZGVyLnJlYWRBc0FycmF5QnVmZmVyKGZpbGUpOwogICAgfSk7CiAgICAvLyBXYWl0IGZvciB0aGUgZGF0YSB0byBiZSByZWFkeS4KICAgIGxldCBmaWxlRGF0YSA9IHlpZWxkIHsKICAgICAgcHJvbWlzZTogZmlsZURhdGFQcm9taXNlLAogICAgICByZXNwb25zZTogewogICAgICAgIGFjdGlvbjogJ2NvbnRpbnVlJywKICAgICAgfQogICAgfTsKCiAgICAvLyBVc2UgYSBjaHVua2VkIHNlbmRpbmcgdG8gYXZvaWQgbWVzc2FnZSBzaXplIGxpbWl0cy4gU2VlIGIvNjIxMTU2NjAuCiAgICBsZXQgcG9zaXRpb24gPSAwOwogICAgd2hpbGUgKHBvc2l0aW9uIDwgZmlsZURhdGEuYnl0ZUxlbmd0aCkgewogICAgICBjb25zdCBsZW5ndGggPSBNYXRoLm1pbihmaWxlRGF0YS5ieXRlTGVuZ3RoIC0gcG9zaXRpb24sIE1BWF9QQVlMT0FEX1NJWkUpOwogICAgICBjb25zdCBjaHVuayA9IG5ldyBVaW50OEFycmF5KGZpbGVEYXRhLCBwb3NpdGlvbiwgbGVuZ3RoKTsKICAgICAgcG9zaXRpb24gKz0gbGVuZ3RoOwoKICAgICAgY29uc3QgYmFzZTY0ID0gYnRvYShTdHJpbmcuZnJvbUNoYXJDb2RlLmFwcGx5KG51bGwsIGNodW5rKSk7CiAgICAgIHlpZWxkIHsKICAgICAgICByZXNwb25zZTogewogICAgICAgICAgYWN0aW9uOiAnYXBwZW5kJywKICAgICAgICAgIGZpbGU6IGZpbGUubmFtZSwKICAgICAgICAgIGRhdGE6IGJhc2U2NCwKICAgICAgICB9LAogICAgICB9OwogICAgICBwZXJjZW50LnRleHRDb250ZW50ID0KICAgICAgICAgIGAke01hdGgucm91bmQoKHBvc2l0aW9uIC8gZmlsZURhdGEuYnl0ZUxlbmd0aCkgKiAxMDApfSUgZG9uZWA7CiAgICB9CiAgfQoKICAvLyBBbGwgZG9uZS4KICB5aWVsZCB7CiAgICByZXNwb25zZTogewogICAgICBhY3Rpb246ICdjb21wbGV0ZScsCiAgICB9CiAgfTsKfQoKc2NvcGUuZ29vZ2xlID0gc2NvcGUuZ29vZ2xlIHx8IHt9OwpzY29wZS5nb29nbGUuY29sYWIgPSBzY29wZS5nb29nbGUuY29sYWIgfHwge307CnNjb3BlLmdvb2dsZS5jb2xhYi5fZmlsZXMgPSB7CiAgX3VwbG9hZEZpbGVzLAogIF91cGxvYWRGaWxlc0NvbnRpbnVlLAp9Owp9KShzZWxmKTsK",
              "ok": true,
              "headers": [
                [
                  "content-type",
                  "application/javascript"
                ]
              ],
              "status": 200,
              "status_text": ""
            }
          },
          "base_uri": "https://localhost:8080/",
          "height": 73
        },
        "outputId": "28e418f2-4db1-456c-8e40-fbd2849ab3da"
      },
      "source": [
        "from google.colab import files\n",
        "uploaded = files.upload()"
      ],
      "execution_count": null,
      "outputs": [
        {
          "output_type": "display_data",
          "data": {
            "text/html": [
              "\n",
              "     <input type=\"file\" id=\"files-7abc18b2-7176-48dc-abb5-622dc6e8a6d4\" name=\"files[]\" multiple disabled\n",
              "        style=\"border:none\" />\n",
              "     <output id=\"result-7abc18b2-7176-48dc-abb5-622dc6e8a6d4\">\n",
              "      Upload widget is only available when the cell has been executed in the\n",
              "      current browser session. Please rerun this cell to enable.\n",
              "      </output>\n",
              "      <script src=\"/nbextensions/google.colab/files.js\"></script> "
            ],
            "text/plain": [
              "<IPython.core.display.HTML object>"
            ]
          },
          "metadata": {
            "tags": []
          }
        },
        {
          "output_type": "stream",
          "text": [
            "Saving Churn_Modelling.csv to Churn_Modelling.csv\n"
          ],
          "name": "stdout"
        }
      ]
    },
    {
      "cell_type": "code",
      "metadata": {
        "id": "kPTPCkTMM9cT",
        "colab_type": "code",
        "colab": {
          "base_uri": "https://localhost:8080/",
          "height": 134
        },
        "outputId": "c427c493-162b-49e5-d3b2-2a687a7725d3"
      },
      "source": [
        "dataset=pd.read_csv('Churn_Modelling.csv')\n",
        "x=dataset.iloc[:,3:13].values\n",
        "y=dataset.iloc[:,13].values\n",
        "x"
      ],
      "execution_count": null,
      "outputs": [
        {
          "output_type": "execute_result",
          "data": {
            "text/plain": [
              "array([[619, 'France', 'Female', ..., 1, 1, 101348.88],\n",
              "       [608, 'Spain', 'Female', ..., 0, 1, 112542.58],\n",
              "       [502, 'France', 'Female', ..., 1, 0, 113931.57],\n",
              "       ...,\n",
              "       [709, 'France', 'Female', ..., 0, 1, 42085.58],\n",
              "       [772, 'Germany', 'Male', ..., 1, 0, 92888.52],\n",
              "       [792, 'France', 'Female', ..., 1, 0, 38190.78]], dtype=object)"
            ]
          },
          "metadata": {
            "tags": []
          },
          "execution_count": 4
        }
      ]
    },
    {
      "cell_type": "code",
      "metadata": {
        "id": "Xrfttq7hhq8F",
        "colab_type": "code",
        "colab": {
          "base_uri": "https://localhost:8080/",
          "height": 34
        },
        "outputId": "02642e75-4db4-456a-e1a3-e349cb171a35"
      },
      "source": [
        "x.shape"
      ],
      "execution_count": null,
      "outputs": [
        {
          "output_type": "execute_result",
          "data": {
            "text/plain": [
              "(10000, 10)"
            ]
          },
          "metadata": {
            "tags": []
          },
          "execution_count": 5
        }
      ]
    },
    {
      "cell_type": "code",
      "metadata": {
        "id": "kIJyJ9aJNG1Z",
        "colab_type": "code",
        "colab": {}
      },
      "source": [
        "from sklearn.preprocessing import LabelEncoder,OneHotEncoder\n",
        "from sklearn.compose import ColumnTransformer\n",
        "labelencoder_X_1 = LabelEncoder()\n",
        "x[:, 1] = labelencoder_X_1.fit_transform(x[:, 1])\n",
        "labelencoder_X_2 = LabelEncoder()\n",
        "x[:, 2] = labelencoder_X_2.fit_transform(x[:, 2])\n",
        "\n",
        "ct = ColumnTransformer([(\"Geography\", OneHotEncoder(), [1])], remainder = 'passthrough')\n",
        "x = ct.fit_transform(x)\n",
        "\n",
        "ct = ColumnTransformer([(\"Gender\", OneHotEncoder(), [1])], remainder = 'passthrough')\n",
        "x = ct.fit_transform(x)\n"
      ],
      "execution_count": null,
      "outputs": []
    },
    {
      "cell_type": "code",
      "metadata": {
        "id": "7bPOrvG0NTjg",
        "colab_type": "code",
        "colab": {
          "base_uri": "https://localhost:8080/",
          "height": 34
        },
        "outputId": "260f79fe-d740-4e5c-f0e9-346fedeb2806"
      },
      "source": [
        "y.shape"
      ],
      "execution_count": null,
      "outputs": [
        {
          "output_type": "execute_result",
          "data": {
            "text/plain": [
              "(10000,)"
            ]
          },
          "metadata": {
            "tags": []
          },
          "execution_count": 92
        }
      ]
    },
    {
      "cell_type": "code",
      "metadata": {
        "id": "6Hv2_LRSPGHm",
        "colab_type": "code",
        "colab": {
          "base_uri": "https://localhost:8080/",
          "height": 34
        },
        "outputId": "e21fd777-257f-4dbd-dc6f-afc8f8773704"
      },
      "source": [
        "x.shape"
      ],
      "execution_count": null,
      "outputs": [
        {
          "output_type": "execute_result",
          "data": {
            "text/plain": [
              "(10000, 13)"
            ]
          },
          "metadata": {
            "tags": []
          },
          "execution_count": 7
        }
      ]
    },
    {
      "cell_type": "code",
      "metadata": {
        "id": "e4WcGMotajwA",
        "colab_type": "code",
        "colab": {}
      },
      "source": [
        "from sklearn.model_selection import train_test_split\n",
        "x_train,x_test,y_train,y_test=train_test_split(x,y,test_size=0.2,random_state=0)"
      ],
      "execution_count": null,
      "outputs": []
    },
    {
      "cell_type": "code",
      "metadata": {
        "id": "WY-LRH9vax15",
        "colab_type": "code",
        "colab": {}
      },
      "source": [
        "from sklearn.preprocessing import StandardScaler\n",
        "sc=StandardScaler()\n",
        "x_train=sc.fit_transform(x_train)\n",
        "x_test=sc.fit_transform(x_test)\n"
      ],
      "execution_count": null,
      "outputs": []
    },
    {
      "cell_type": "code",
      "metadata": {
        "id": "BRkw0-PYa_sQ",
        "colab_type": "code",
        "colab": {}
      },
      "source": [
        "from keras.models import Sequential\n",
        "from keras.layers import Dense\n",
        "\n",
        "def deep_model():\n",
        "    classifier = Sequential()\n",
        "    classifier.add(Dense(units=6, kernel_initializer='uniform', activation='relu', input_dim=13)) \n",
        "    classifier.add(Dense(units=6, kernel_initializer='uniform', activation='relu'))\n",
        "    classifier.add(Dense(units=1, kernel_initializer='uniform', activation='sigmoid'))\n",
        "    classifier.compile(optimizer='rmsprop', loss='binary_crossentropy', metrics=['accuracy'])\n",
        "    return classifier"
      ],
      "execution_count": null,
      "outputs": []
    },
    {
      "cell_type": "code",
      "metadata": {
        "id": "sdXHZmmmbDQ-",
        "colab_type": "code",
        "colab": {}
      },
      "source": [
        "from keras.models import load_model"
      ],
      "execution_count": null,
      "outputs": []
    },
    {
      "cell_type": "code",
      "metadata": {
        "id": "C3Qbapo9bM_1",
        "colab_type": "code",
        "colab": {
          "base_uri": "https://localhost:8080/",
          "height": 1000
        },
        "outputId": "f9089bae-66a1-4dfa-9ccf-16e03e00969a"
      },
      "source": [
        "classifier=deep_model()\n",
        "classifier.fit(x_train,y_train,batch_size=4,epochs=128)\n",
        "#y_pred = classifier.predict(X_test)  Error X_test is capital\n",
        "#y_pred = (y_pred > 0.5)\n"
      ],
      "execution_count": null,
      "outputs": [
        {
          "output_type": "stream",
          "text": [
            "Epoch 1/128\n",
            "2000/2000 [==============================] - 2s 881us/step - loss: 0.4639 - accuracy: 0.7958\n",
            "Epoch 2/128\n",
            "2000/2000 [==============================] - 2s 899us/step - loss: 0.4286 - accuracy: 0.8064\n",
            "Epoch 3/128\n",
            "2000/2000 [==============================] - 2s 885us/step - loss: 0.4231 - accuracy: 0.8238\n",
            "Epoch 4/128\n",
            "2000/2000 [==============================] - 2s 917us/step - loss: 0.4204 - accuracy: 0.8241\n",
            "Epoch 5/128\n",
            "2000/2000 [==============================] - 2s 876us/step - loss: 0.4171 - accuracy: 0.8291\n",
            "Epoch 6/128\n",
            "2000/2000 [==============================] - 2s 889us/step - loss: 0.4139 - accuracy: 0.8306\n",
            "Epoch 7/128\n",
            "2000/2000 [==============================] - 2s 895us/step - loss: 0.4097 - accuracy: 0.8341\n",
            "Epoch 8/128\n",
            "2000/2000 [==============================] - 2s 913us/step - loss: 0.4079 - accuracy: 0.8351\n",
            "Epoch 9/128\n",
            "2000/2000 [==============================] - 2s 909us/step - loss: 0.4070 - accuracy: 0.8355\n",
            "Epoch 10/128\n",
            "2000/2000 [==============================] - 2s 925us/step - loss: 0.4066 - accuracy: 0.8339\n",
            "Epoch 11/128\n",
            "2000/2000 [==============================] - 2s 887us/step - loss: 0.4057 - accuracy: 0.8354\n",
            "Epoch 12/128\n",
            "2000/2000 [==============================] - 2s 890us/step - loss: 0.4040 - accuracy: 0.8359\n",
            "Epoch 13/128\n",
            "2000/2000 [==============================] - 2s 890us/step - loss: 0.4047 - accuracy: 0.8364\n",
            "Epoch 14/128\n",
            "2000/2000 [==============================] - 2s 865us/step - loss: 0.4043 - accuracy: 0.8367\n",
            "Epoch 15/128\n",
            "2000/2000 [==============================] - 2s 888us/step - loss: 0.4037 - accuracy: 0.8365\n",
            "Epoch 16/128\n",
            "2000/2000 [==============================] - 2s 898us/step - loss: 0.4030 - accuracy: 0.8388\n",
            "Epoch 17/128\n",
            "2000/2000 [==============================] - 2s 890us/step - loss: 0.4022 - accuracy: 0.8378\n",
            "Epoch 18/128\n",
            "2000/2000 [==============================] - 2s 901us/step - loss: 0.4027 - accuracy: 0.8378\n",
            "Epoch 19/128\n",
            "2000/2000 [==============================] - 2s 903us/step - loss: 0.4027 - accuracy: 0.8395\n",
            "Epoch 20/128\n",
            "2000/2000 [==============================] - 2s 869us/step - loss: 0.4014 - accuracy: 0.8374\n",
            "Epoch 21/128\n",
            "2000/2000 [==============================] - 2s 881us/step - loss: 0.4027 - accuracy: 0.8379\n",
            "Epoch 22/128\n",
            "2000/2000 [==============================] - 2s 868us/step - loss: 0.4028 - accuracy: 0.8376\n",
            "Epoch 23/128\n",
            "2000/2000 [==============================] - 2s 870us/step - loss: 0.4009 - accuracy: 0.8389\n",
            "Epoch 24/128\n",
            "2000/2000 [==============================] - 2s 869us/step - loss: 0.4018 - accuracy: 0.8381\n",
            "Epoch 25/128\n",
            "2000/2000 [==============================] - 2s 871us/step - loss: 0.4009 - accuracy: 0.8374\n",
            "Epoch 26/128\n",
            "2000/2000 [==============================] - 2s 888us/step - loss: 0.4020 - accuracy: 0.8386\n",
            "Epoch 27/128\n",
            "2000/2000 [==============================] - 2s 865us/step - loss: 0.4006 - accuracy: 0.8378\n",
            "Epoch 28/128\n",
            "2000/2000 [==============================] - 2s 851us/step - loss: 0.4008 - accuracy: 0.8375\n",
            "Epoch 29/128\n",
            "2000/2000 [==============================] - 2s 788us/step - loss: 0.3991 - accuracy: 0.8380\n",
            "Epoch 30/128\n",
            "2000/2000 [==============================] - 2s 767us/step - loss: 0.3996 - accuracy: 0.8394\n",
            "Epoch 31/128\n",
            "2000/2000 [==============================] - 1s 749us/step - loss: 0.3998 - accuracy: 0.8386\n",
            "Epoch 32/128\n",
            "2000/2000 [==============================] - 2s 770us/step - loss: 0.3991 - accuracy: 0.8395\n",
            "Epoch 33/128\n",
            "2000/2000 [==============================] - 2s 764us/step - loss: 0.3994 - accuracy: 0.8364\n",
            "Epoch 34/128\n",
            "2000/2000 [==============================] - 2s 777us/step - loss: 0.4014 - accuracy: 0.8371\n",
            "Epoch 35/128\n",
            "2000/2000 [==============================] - 2s 759us/step - loss: 0.4000 - accuracy: 0.8390\n",
            "Epoch 36/128\n",
            "2000/2000 [==============================] - 2s 765us/step - loss: 0.4000 - accuracy: 0.8376\n",
            "Epoch 37/128\n",
            "2000/2000 [==============================] - 2s 760us/step - loss: 0.4002 - accuracy: 0.8396\n",
            "Epoch 38/128\n",
            "2000/2000 [==============================] - 2s 755us/step - loss: 0.4002 - accuracy: 0.8393\n",
            "Epoch 39/128\n",
            "2000/2000 [==============================] - 2s 766us/step - loss: 0.3994 - accuracy: 0.8379\n",
            "Epoch 40/128\n",
            "2000/2000 [==============================] - 2s 751us/step - loss: 0.3994 - accuracy: 0.8382\n",
            "Epoch 41/128\n",
            "2000/2000 [==============================] - 2s 766us/step - loss: 0.3995 - accuracy: 0.8391\n",
            "Epoch 42/128\n",
            "2000/2000 [==============================] - 2s 763us/step - loss: 0.4001 - accuracy: 0.8394\n",
            "Epoch 43/128\n",
            "2000/2000 [==============================] - 2s 761us/step - loss: 0.4004 - accuracy: 0.8388\n",
            "Epoch 44/128\n",
            "2000/2000 [==============================] - 2s 769us/step - loss: 0.3996 - accuracy: 0.8393\n",
            "Epoch 45/128\n",
            "2000/2000 [==============================] - 2s 781us/step - loss: 0.3980 - accuracy: 0.8380\n",
            "Epoch 46/128\n",
            "2000/2000 [==============================] - 2s 768us/step - loss: 0.4005 - accuracy: 0.8389\n",
            "Epoch 47/128\n",
            "2000/2000 [==============================] - 2s 755us/step - loss: 0.4005 - accuracy: 0.8388\n",
            "Epoch 48/128\n",
            "2000/2000 [==============================] - 2s 757us/step - loss: 0.4007 - accuracy: 0.8381\n",
            "Epoch 49/128\n",
            "2000/2000 [==============================] - 2s 763us/step - loss: 0.3992 - accuracy: 0.8391\n",
            "Epoch 50/128\n",
            "2000/2000 [==============================] - 2s 751us/step - loss: 0.4001 - accuracy: 0.8372\n",
            "Epoch 51/128\n",
            "2000/2000 [==============================] - 2s 754us/step - loss: 0.3996 - accuracy: 0.8376\n",
            "Epoch 52/128\n",
            "2000/2000 [==============================] - 2s 773us/step - loss: 0.3981 - accuracy: 0.8378\n",
            "Epoch 53/128\n",
            "2000/2000 [==============================] - 2s 768us/step - loss: 0.3997 - accuracy: 0.8376\n",
            "Epoch 54/128\n",
            "2000/2000 [==============================] - 2s 762us/step - loss: 0.3995 - accuracy: 0.8381\n",
            "Epoch 55/128\n",
            "2000/2000 [==============================] - 2s 759us/step - loss: 0.3998 - accuracy: 0.8382\n",
            "Epoch 56/128\n",
            "2000/2000 [==============================] - 2s 757us/step - loss: 0.4002 - accuracy: 0.8375\n",
            "Epoch 57/128\n",
            "2000/2000 [==============================] - 2s 755us/step - loss: 0.4011 - accuracy: 0.8379\n",
            "Epoch 58/128\n",
            "2000/2000 [==============================] - 2s 761us/step - loss: 0.4004 - accuracy: 0.8369\n",
            "Epoch 59/128\n",
            "2000/2000 [==============================] - 2s 759us/step - loss: 0.4001 - accuracy: 0.8370\n",
            "Epoch 60/128\n",
            "2000/2000 [==============================] - 2s 773us/step - loss: 0.4016 - accuracy: 0.8394\n",
            "Epoch 61/128\n",
            "2000/2000 [==============================] - 2s 752us/step - loss: 0.4009 - accuracy: 0.8384\n",
            "Epoch 62/128\n",
            "2000/2000 [==============================] - 2s 777us/step - loss: 0.4019 - accuracy: 0.8397\n",
            "Epoch 63/128\n",
            "2000/2000 [==============================] - 2s 753us/step - loss: 0.4008 - accuracy: 0.8389\n",
            "Epoch 64/128\n",
            "2000/2000 [==============================] - 2s 759us/step - loss: 0.4011 - accuracy: 0.8391\n",
            "Epoch 65/128\n",
            "2000/2000 [==============================] - 2s 760us/step - loss: 0.3999 - accuracy: 0.8384\n",
            "Epoch 66/128\n",
            "2000/2000 [==============================] - 2s 760us/step - loss: 0.4019 - accuracy: 0.8379\n",
            "Epoch 67/128\n",
            "2000/2000 [==============================] - 1s 750us/step - loss: 0.4023 - accuracy: 0.8388\n",
            "Epoch 68/128\n",
            "2000/2000 [==============================] - 2s 750us/step - loss: 0.4011 - accuracy: 0.8389\n",
            "Epoch 69/128\n",
            "2000/2000 [==============================] - 2s 759us/step - loss: 0.4023 - accuracy: 0.8394\n",
            "Epoch 70/128\n",
            "2000/2000 [==============================] - 2s 766us/step - loss: 0.4025 - accuracy: 0.8372\n",
            "Epoch 71/128\n",
            "2000/2000 [==============================] - 2s 753us/step - loss: 0.4026 - accuracy: 0.8378\n",
            "Epoch 72/128\n",
            "2000/2000 [==============================] - 2s 769us/step - loss: 0.4028 - accuracy: 0.8385\n",
            "Epoch 73/128\n",
            "2000/2000 [==============================] - 2s 769us/step - loss: 0.4019 - accuracy: 0.8382\n",
            "Epoch 74/128\n",
            "2000/2000 [==============================] - 2s 762us/step - loss: 0.4011 - accuracy: 0.8388\n",
            "Epoch 75/128\n",
            "2000/2000 [==============================] - 2s 762us/step - loss: 0.4027 - accuracy: 0.8376\n",
            "Epoch 76/128\n",
            "2000/2000 [==============================] - 2s 770us/step - loss: 0.4022 - accuracy: 0.8372\n",
            "Epoch 77/128\n",
            "2000/2000 [==============================] - 2s 761us/step - loss: 0.4025 - accuracy: 0.8380\n",
            "Epoch 78/128\n",
            "2000/2000 [==============================] - 2s 761us/step - loss: 0.4014 - accuracy: 0.8389\n",
            "Epoch 79/128\n",
            "2000/2000 [==============================] - 2s 764us/step - loss: 0.4015 - accuracy: 0.8385\n",
            "Epoch 80/128\n",
            "2000/2000 [==============================] - 1s 749us/step - loss: 0.4020 - accuracy: 0.8381\n",
            "Epoch 81/128\n",
            "2000/2000 [==============================] - 2s 765us/step - loss: 0.4011 - accuracy: 0.8375\n",
            "Epoch 82/128\n",
            "2000/2000 [==============================] - 2s 752us/step - loss: 0.4030 - accuracy: 0.8384\n",
            "Epoch 83/128\n",
            "2000/2000 [==============================] - 2s 755us/step - loss: 0.4019 - accuracy: 0.8378\n",
            "Epoch 84/128\n",
            "2000/2000 [==============================] - 2s 760us/step - loss: 0.4008 - accuracy: 0.8386\n",
            "Epoch 85/128\n",
            "2000/2000 [==============================] - 2s 764us/step - loss: 0.4025 - accuracy: 0.8384\n",
            "Epoch 86/128\n",
            "2000/2000 [==============================] - 2s 792us/step - loss: 0.4021 - accuracy: 0.8389\n",
            "Epoch 87/128\n",
            "2000/2000 [==============================] - 2s 769us/step - loss: 0.4021 - accuracy: 0.8382\n",
            "Epoch 88/128\n",
            "2000/2000 [==============================] - 2s 755us/step - loss: 0.4013 - accuracy: 0.8385\n",
            "Epoch 89/128\n",
            "2000/2000 [==============================] - 2s 762us/step - loss: 0.4032 - accuracy: 0.8390\n",
            "Epoch 90/128\n",
            "2000/2000 [==============================] - 2s 768us/step - loss: 0.4015 - accuracy: 0.8384\n",
            "Epoch 91/128\n",
            "2000/2000 [==============================] - 1s 748us/step - loss: 0.4006 - accuracy: 0.8385\n",
            "Epoch 92/128\n",
            "2000/2000 [==============================] - 2s 760us/step - loss: 0.3997 - accuracy: 0.8396\n",
            "Epoch 93/128\n",
            "2000/2000 [==============================] - 2s 753us/step - loss: 0.4007 - accuracy: 0.8386\n",
            "Epoch 94/128\n",
            "2000/2000 [==============================] - 2s 783us/step - loss: 0.4004 - accuracy: 0.8400\n",
            "Epoch 95/128\n",
            "2000/2000 [==============================] - 2s 766us/step - loss: 0.3983 - accuracy: 0.8407\n",
            "Epoch 96/128\n",
            "2000/2000 [==============================] - 2s 786us/step - loss: 0.4002 - accuracy: 0.8390\n",
            "Epoch 97/128\n",
            "2000/2000 [==============================] - 2s 768us/step - loss: 0.3991 - accuracy: 0.8389\n",
            "Epoch 98/128\n",
            "2000/2000 [==============================] - 2s 763us/step - loss: 0.3992 - accuracy: 0.8389\n",
            "Epoch 99/128\n",
            "2000/2000 [==============================] - 2s 769us/step - loss: 0.3977 - accuracy: 0.8394\n",
            "Epoch 100/128\n",
            "2000/2000 [==============================] - 2s 753us/step - loss: 0.3975 - accuracy: 0.8386\n",
            "Epoch 101/128\n",
            "2000/2000 [==============================] - 2s 773us/step - loss: 0.3972 - accuracy: 0.8404\n",
            "Epoch 102/128\n",
            "2000/2000 [==============================] - 2s 769us/step - loss: 0.3947 - accuracy: 0.8429\n",
            "Epoch 103/128\n",
            "2000/2000 [==============================] - 2s 792us/step - loss: 0.3968 - accuracy: 0.8415\n",
            "Epoch 104/128\n",
            "2000/2000 [==============================] - 2s 764us/step - loss: 0.3962 - accuracy: 0.8404\n",
            "Epoch 105/128\n",
            "2000/2000 [==============================] - 2s 767us/step - loss: 0.3951 - accuracy: 0.8411\n",
            "Epoch 106/128\n",
            "2000/2000 [==============================] - 2s 760us/step - loss: 0.3953 - accuracy: 0.8414\n",
            "Epoch 107/128\n",
            "2000/2000 [==============================] - 2s 776us/step - loss: 0.3952 - accuracy: 0.8431\n",
            "Epoch 108/128\n",
            "2000/2000 [==============================] - 2s 765us/step - loss: 0.3931 - accuracy: 0.8446\n",
            "Epoch 109/128\n",
            "2000/2000 [==============================] - 2s 770us/step - loss: 0.3941 - accuracy: 0.8430\n",
            "Epoch 110/128\n",
            "2000/2000 [==============================] - 2s 775us/step - loss: 0.3943 - accuracy: 0.8432\n",
            "Epoch 111/128\n",
            "2000/2000 [==============================] - 2s 756us/step - loss: 0.3948 - accuracy: 0.8445\n",
            "Epoch 112/128\n",
            "2000/2000 [==============================] - 2s 762us/step - loss: 0.3953 - accuracy: 0.8431\n",
            "Epoch 113/128\n",
            "2000/2000 [==============================] - 2s 753us/step - loss: 0.3930 - accuracy: 0.8447\n",
            "Epoch 114/128\n",
            "2000/2000 [==============================] - 2s 770us/step - loss: 0.3947 - accuracy: 0.8441\n",
            "Epoch 115/128\n",
            "2000/2000 [==============================] - 2s 767us/step - loss: 0.3932 - accuracy: 0.8443\n",
            "Epoch 116/128\n",
            "2000/2000 [==============================] - 2s 764us/step - loss: 0.3940 - accuracy: 0.8441\n",
            "Epoch 117/128\n",
            "2000/2000 [==============================] - 2s 766us/step - loss: 0.3927 - accuracy: 0.8449\n",
            "Epoch 118/128\n",
            "2000/2000 [==============================] - 2s 785us/step - loss: 0.3939 - accuracy: 0.8459\n",
            "Epoch 119/128\n",
            "2000/2000 [==============================] - 2s 761us/step - loss: 0.3940 - accuracy: 0.8451\n",
            "Epoch 120/128\n",
            "2000/2000 [==============================] - 2s 774us/step - loss: 0.3928 - accuracy: 0.8453\n",
            "Epoch 121/128\n",
            "2000/2000 [==============================] - 2s 754us/step - loss: 0.3929 - accuracy: 0.8449\n",
            "Epoch 122/128\n",
            "2000/2000 [==============================] - 2s 767us/step - loss: 0.3938 - accuracy: 0.8444\n",
            "Epoch 123/128\n",
            "2000/2000 [==============================] - 2s 767us/step - loss: 0.3937 - accuracy: 0.8453\n",
            "Epoch 124/128\n",
            "2000/2000 [==============================] - 2s 755us/step - loss: 0.3947 - accuracy: 0.8428\n",
            "Epoch 125/128\n",
            "2000/2000 [==============================] - 2s 772us/step - loss: 0.3934 - accuracy: 0.8457\n",
            "Epoch 126/128\n",
            "2000/2000 [==============================] - 2s 754us/step - loss: 0.3937 - accuracy: 0.8444\n",
            "Epoch 127/128\n",
            "2000/2000 [==============================] - 2s 766us/step - loss: 0.3957 - accuracy: 0.8449\n",
            "Epoch 128/128\n",
            "2000/2000 [==============================] - 2s 764us/step - loss: 0.3939 - accuracy: 0.8441\n"
          ],
          "name": "stdout"
        },
        {
          "output_type": "execute_result",
          "data": {
            "text/plain": [
              "<tensorflow.python.keras.callbacks.History at 0x7fb3ae244c50>"
            ]
          },
          "metadata": {
            "tags": []
          },
          "execution_count": 17
        }
      ]
    },
    {
      "cell_type": "code",
      "metadata": {
        "id": "an0EnAzAjErU",
        "colab_type": "code",
        "colab": {}
      },
      "source": [
        "y_pred = classifier.predict(x_test)  \n",
        "y_pred = (y_pred > 0.5)"
      ],
      "execution_count": null,
      "outputs": []
    },
    {
      "cell_type": "code",
      "metadata": {
        "id": "Ra4E9xm3cqxe",
        "colab_type": "code",
        "colab": {
          "base_uri": "https://localhost:8080/",
          "height": 67
        },
        "outputId": "f8933981-cfa2-48d0-8b39-48daa54a50b1"
      },
      "source": [
        "from sklearn.metrics import confusion_matrix\n",
        "cm=confusion_matrix(y_test,y_pred)\n",
        "print(cm)\n",
        "accuracy=((cm[0][0]+cm[1][1])/(cm[0][0]+cm[1][1]+cm[0][1]+cm[1][0]))*100\n",
        "print(accuracy)"
      ],
      "execution_count": null,
      "outputs": [
        {
          "output_type": "stream",
          "text": [
            "[[1538   57]\n",
            " [ 252  153]]\n",
            "84.55\n"
          ],
          "name": "stdout"
        }
      ]
    },
    {
      "cell_type": "code",
      "metadata": {
        "id": "SiKWmIaQh7pt",
        "colab_type": "code",
        "colab": {}
      },
      "source": [
        ""
      ],
      "execution_count": null,
      "outputs": []
    }
  ]
}